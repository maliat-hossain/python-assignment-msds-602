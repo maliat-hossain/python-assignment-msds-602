{
 "cells": [
  {
   "cell_type": "code",
   "execution_count": 4,
   "metadata": {},
   "outputs": [],
   "source": [
    "import csv"
   ]
  },
  {
   "cell_type": "markdown",
   "metadata": {},
   "source": [
    "Create a class Box that has attributes length and width that takes values for length and width upon construction (instantiation via the constructor). \n",
    "        Make sure to use Python 3 semantics. \n",
    "       \n",
    "        In addition, create...\n",
    "        - A method called render() that prints out to the screen a box made with asterisks of length and width dimensions\n",
    "        - A method called invert() that switches length and width with each other\n",
    "        - Methods get_area() and get_perimeter() that return appropriate geometric calculations\n",
    "        - A method called double() that doubles the size of the box. Hint: Pay attention to return value here\n",
    "        - Implement __eq__ so that two boxes can be compared using ==. Two boxes are equal if their respective lengths and widths are identical.\n",
    "        - A method print_dim that prints to screen the length and width details of the box\n",
    "        - A method get_dim that returns a tuple containing the length and width of the box\n",
    "        - A method combine() that takes another box as an argument and increases the length and width by the dimensions of the box passed in\n",
    "        - A method get_hypot() that finds the length of the diagonal that cuts throught the middle\n",
    "        \n",
    "        In the function exercise02():\n",
    "        - Instantiate 3 boxes of dimensions 5,10 , 3,4 and 5,10 and assign to variables box1, box2 and box3 respectively \n",
    "        - Print dimension info for each using print_dim()\n",
    "        - Evaluate if box1 == box2, and also evaluate if box1 == box3, print True or False to the screen accordingly\n",
    "        - Combine box3 into box1 (i.e. box1.combine())\n",
    "        - Double the size of box2\n",
    "        - Combine box2 into box1\n",
    "        - Using a for loop, iterate through and print the tuple received from calling box2's get_dim()\n",
    "        - Find the size of the diagonal of box2"
   ]
  },
  {
   "cell_type": "code",
   "execution_count": 1,
   "metadata": {},
   "outputs": [
    {
     "name": "stdout",
     "output_type": "stream",
     "text": [
      "******\n",
      "*    *\n",
      "*    *\n",
      "*    *\n",
      "******\n",
      "*****\n",
      "*   *\n",
      "*   *\n",
      "*   *\n",
      "*   *\n",
      "*****\n",
      "30\n",
      "22\n",
      "**********\n",
      "*        *\n",
      "*        *\n",
      "*        *\n",
      "*        *\n",
      "*        *\n",
      "*        *\n",
      "*        *\n",
      "*        *\n",
      "*        *\n",
      "*        *\n",
      "**********\n",
      "length = 10\n",
      "width = 12\n",
      "(10, 12)\n"
     ]
    }
   ],
   "source": [
    "class Box:\n",
    "    def __init__(self, length, width):\n",
    "        self.length = length\n",
    "        self.width = width\n",
    "        \n",
    "    def get_length(self):\n",
    "        return self.length\n",
    "        \n",
    "    def get_width(self):\n",
    "        return self.width\n",
    "    \n",
    "    def render(self):\n",
    "        print('*' * self.length)\n",
    "        \n",
    "        for i in range(self.width -2):\n",
    "            print(\"*\" + (' ' * (self.length -2)) + \"*\")\n",
    "            \n",
    "        print('*' * self.length)\n",
    "        \n",
    "    def invert(self):\n",
    "        self.length, self.width = self.width, self.length\n",
    "        \n",
    "    def get_area(self):\n",
    "        return self.length * self.width\n",
    "            \n",
    "    def get_perimeter(self):\n",
    "        return 2*(self.length + self.width)\n",
    "        \n",
    "    def double(self):\n",
    "        self.length = 2 * self.length\n",
    "        self.width = 2 * self.width \n",
    "        return \n",
    "    \n",
    "    def __eq__(self, other):\n",
    "        \"\"\"Override the default Equals behavior\"\"\"\n",
    "        return self.length == other.length and self.width == other.width\n",
    "    \n",
    "    def print_dim(self):\n",
    "        print(f\"length = {self.length}\")\n",
    "        print(f\"width = {self.width}\")\n",
    "\n",
    "\n",
    "    def get_dim(self):\n",
    "        return (self.length, self.width)\n",
    "        \n",
    "box = Box(6,5)\n",
    "box.render()\n",
    "box.invert()\n",
    "box.render()\n",
    "print(box.get_area())\n",
    "print(box.get_perimeter())\n",
    "box.double()\n",
    "box.render()\n",
    "box.print_dim()\n",
    "print(box.get_dim())\n",
    "      "
   ]
  },
  {
   "cell_type": "markdown",
   "metadata": {},
   "source": [
    "def exercise03():\n",
    "    '''\n",
    "    1. Read about avocado prices on Kaggle (https://www.kaggle.com/neuromusic/avocado-prices/home)\n",
    "    2. Load the included avocado.csv file and display every line to the screen\n",
    "    3. Use the imported csv library\n",
    "    "
   ]
  },
  {
   "cell_type": "code",
   "execution_count": 5,
   "metadata": {},
   "outputs": [
    {
     "ename": "FileNotFoundError",
     "evalue": "[Errno 2] No such file or directory: 'example.csv'",
     "output_type": "error",
     "traceback": [
      "\u001b[1;31m---------------------------------------------------------------------------\u001b[0m",
      "\u001b[1;31mFileNotFoundError\u001b[0m                         Traceback (most recent call last)",
      "\u001b[1;32m<ipython-input-5-95495f59b6f2>\u001b[0m in \u001b[0;36m<module>\u001b[1;34m\u001b[0m\n\u001b[0;32m      1\u001b[0m \u001b[1;32mimport\u001b[0m \u001b[0mcsv\u001b[0m\u001b[1;33m\u001b[0m\u001b[1;33m\u001b[0m\u001b[0m\n\u001b[0;32m      2\u001b[0m \u001b[1;33m\u001b[0m\u001b[0m\n\u001b[1;32m----> 3\u001b[1;33m \u001b[1;32mwith\u001b[0m \u001b[0mopen\u001b[0m\u001b[1;33m(\u001b[0m\u001b[1;34m'example.csv'\u001b[0m\u001b[1;33m)\u001b[0m \u001b[1;32mas\u001b[0m \u001b[0mcsv_file\u001b[0m\u001b[1;33m:\u001b[0m\u001b[1;33m\u001b[0m\u001b[1;33m\u001b[0m\u001b[0m\n\u001b[0m\u001b[0;32m      4\u001b[0m     \u001b[0mreader\u001b[0m \u001b[1;33m=\u001b[0m \u001b[0mcsv\u001b[0m\u001b[1;33m.\u001b[0m\u001b[0mreader\u001b[0m\u001b[1;33m(\u001b[0m\u001b[1;34m\"https://www.kaggle.com/neuromusic/avocado-prices/homee\"\u001b[0m\u001b[1;33m,\u001b[0m \u001b[0mdelimiter\u001b[0m\u001b[1;33m=\u001b[0m\u001b[1;34m','\u001b[0m\u001b[1;33m)\u001b[0m\u001b[1;33m\u001b[0m\u001b[1;33m\u001b[0m\u001b[0m\n\u001b[0;32m      5\u001b[0m     \u001b[1;32mfor\u001b[0m \u001b[0mrow\u001b[0m \u001b[1;32min\u001b[0m \u001b[0mreader\u001b[0m \u001b[1;33m:\u001b[0m\u001b[1;33m\u001b[0m\u001b[1;33m\u001b[0m\u001b[0m\n",
      "\u001b[1;31mFileNotFoundError\u001b[0m: [Errno 2] No such file or directory: 'example.csv'"
     ]
    }
   ],
   "source": [
    "import csv\n",
    "\n",
    "with open('example.csv') as csv_file:\n",
    "    reader = csv.reader(\"https://www.kaggle.com/neuromusic/avocado-prices/homee\", delimiter=',')\n",
    "    for row in reader :\n",
    "        print(row)"
   ]
  },
  {
   "cell_type": "code",
   "execution_count": null,
   "metadata": {},
   "outputs": [],
   "source": []
  }
 ],
 "metadata": {
  "kernelspec": {
   "display_name": "Python 3",
   "language": "python",
   "name": "python3"
  },
  "language_info": {
   "codemirror_mode": {
    "name": "ipython",
    "version": 3
   },
   "file_extension": ".py",
   "mimetype": "text/x-python",
   "name": "python",
   "nbconvert_exporter": "python",
   "pygments_lexer": "ipython3",
   "version": "3.7.3"
  }
 },
 "nbformat": 4,
 "nbformat_minor": 2
}
